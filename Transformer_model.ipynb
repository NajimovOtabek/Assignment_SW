{
  "nbformat": 4,
  "nbformat_minor": 0,
  "metadata": {
    "colab": {
      "provenance": [],
      "machine_shape": "hm",
      "gpuType": "T4",
      "authorship_tag": "ABX9TyPIG/O9ckNwM5RDPEeSBoA9",
      "include_colab_link": true
    },
    "kernelspec": {
      "name": "python3",
      "display_name": "Python 3"
    },
    "language_info": {
      "name": "python"
    },
    "accelerator": "GPU"
  },
  "cells": [
    {
      "cell_type": "markdown",
      "metadata": {
        "id": "view-in-github",
        "colab_type": "text"
      },
      "source": [
        "<a href=\"https://colab.research.google.com/github/NajimovOtabek/Assignment_SW/blob/main/Transformer_model.ipynb\" target=\"_parent\"><img src=\"https://colab.research.google.com/assets/colab-badge.svg\" alt=\"Open In Colab\"/></a>"
      ]
    },
    {
      "cell_type": "code",
      "source": [
        "!gdown --id 1-t3RdDpmqMs4ABt9oobSapeNYTZJ9tpu\n",
        "!unzip MachineLearningCSV.zip"
      ],
      "metadata": {
        "colab": {
          "base_uri": "https://localhost:8080/"
        },
        "id": "qIJIqI9uXiwD",
        "outputId": "53a6c0c0-b4bf-4a09-e591-3aaa2e90b1af"
      },
      "execution_count": null,
      "outputs": [
        {
          "output_type": "stream",
          "name": "stdout",
          "text": [
            "/usr/local/lib/python3.10/dist-packages/gdown/cli.py:121: FutureWarning: Option `--id` was deprecated in version 4.3.1 and will be removed in 5.0. You don't need to pass it anymore to use a file ID.\n",
            "  warnings.warn(\n",
            "Downloading...\n",
            "From: https://drive.google.com/uc?id=1-t3RdDpmqMs4ABt9oobSapeNYTZJ9tpu\n",
            "To: /content/MachineLearningCSV.zip\n",
            "100% 235M/235M [00:00<00:00, 288MB/s]\n",
            "Archive:  MachineLearningCSV.zip\n",
            "   creating: MachineLearningCVE/\n",
            "  inflating: MachineLearningCVE/Wednesday-workingHours.pcap_ISCX.csv  \n",
            "  inflating: MachineLearningCVE/Tuesday-WorkingHours.pcap_ISCX.csv  \n",
            "  inflating: MachineLearningCVE/Thursday-WorkingHours-Morning-WebAttacks.pcap_ISCX.csv  \n",
            "  inflating: MachineLearningCVE/Thursday-WorkingHours-Afternoon-Infilteration.pcap_ISCX.csv  \n",
            "  inflating: MachineLearningCVE/Monday-WorkingHours.pcap_ISCX.csv  \n",
            "  inflating: MachineLearningCVE/Friday-WorkingHours-Morning.pcap_ISCX.csv  \n",
            "  inflating: MachineLearningCVE/Friday-WorkingHours-Afternoon-PortScan.pcap_ISCX.csv  \n",
            "  inflating: MachineLearningCVE/Friday-WorkingHours-Afternoon-DDos.pcap_ISCX.csv  \n"
          ]
        }
      ]
    },
    {
      "cell_type": "code",
      "source": [
        "!wget https://raw.githubusercontent.com/Jumabek/net_intrusion_detection/develop/preprocessing.py"
      ],
      "metadata": {
        "colab": {
          "base_uri": "https://localhost:8080/"
        },
        "id": "fpGgaok6Xik1",
        "outputId": "3a59d2b6-82cc-4a2b-bf9f-294ef55419c8"
      },
      "execution_count": null,
      "outputs": [
        {
          "output_type": "stream",
          "name": "stdout",
          "text": [
            "--2023-09-08 12:14:20--  https://raw.githubusercontent.com/Jumabek/net_intrusion_detection/develop/preprocessing.py\n",
            "Resolving raw.githubusercontent.com (raw.githubusercontent.com)... 185.199.108.133, 185.199.109.133, 185.199.110.133, ...\n",
            "Connecting to raw.githubusercontent.com (raw.githubusercontent.com)|185.199.108.133|:443... connected.\n",
            "HTTP request sent, awaiting response... 200 OK\n",
            "Length: 3790 (3.7K) [text/plain]\n",
            "Saving to: ‘preprocessing.py’\n",
            "\n",
            "preprocessing.py    100%[===================>]   3.70K  --.-KB/s    in 0s      \n",
            "\n",
            "2023-09-08 12:14:20 (85.7 MB/s) - ‘preprocessing.py’ saved [3790/3790]\n",
            "\n"
          ]
        }
      ]
    },
    {
      "cell_type": "code",
      "execution_count": null,
      "metadata": {
        "id": "AKzHmzbMTWJG"
      },
      "outputs": [],
      "source": [
        "import os\n",
        "os.environ['CUDA_LAUNCH_BLOCKING'] = \"1\"\n",
        "import torch\n",
        "import torch.nn as nn\n",
        "import torch.optim as optim\n",
        "from torch.utils.data import DataLoader, TensorDataset\n",
        "from sklearn.model_selection import train_test_split\n",
        "from sklearn.preprocessing import StandardScaler\n",
        "from sklearn.metrics import accuracy_score, f1_score, precision_score, recall_score, balanced_accuracy_score, classification_report\n",
        "from preprocessing import read_data, load_data, normalize\n",
        "from imblearn.under_sampling import RandomUnderSampler\n",
        "from collections import Counter\n",
        "from sklearn.model_selection import StratifiedShuffleSplit\n",
        "import numpy as np\n",
        "import os"
      ]
    },
    {
      "cell_type": "code",
      "source": [
        "dataroot = 'MachineLearningCVE/'\n",
        "from preprocessing import read_data\n",
        "data = read_data(dataroot,'*.pcap_ISCX.csv')"
      ],
      "metadata": {
        "colab": {
          "base_uri": "https://localhost:8080/"
        },
        "id": "RqffjQGFZHGb",
        "outputId": "34930388-00bb-42c2-c66e-ab4ec314f1d1"
      },
      "execution_count": null,
      "outputs": [
        {
          "output_type": "stream",
          "name": "stdout",
          "text": [
            "[########################################] | 100% Completed | 29.24 s\n"
          ]
        }
      ]
    },
    {
      "cell_type": "code",
      "source": [
        "# Load and normalize the data\n",
        "X, y = load_data(dataroot)\n",
        "X = normalize(X)"
      ],
      "metadata": {
        "id": "4pyZ539-SSaN",
        "colab": {
          "base_uri": "https://localhost:8080/"
        },
        "outputId": "54a33f2b-ea59-42ea-9a2f-23809b4fd6ea"
      },
      "execution_count": null,
      "outputs": [
        {
          "output_type": "stream",
          "name": "stdout",
          "text": [
            "[########################################] | 100% Completed | 26.80 s\n",
            "there are 2830743 flow records with 79 feature dimension\n",
            "stripped column names\n",
            "dropped bad columns\n",
            "There are 0 nan entries\n",
            "converted to numeric\n"
          ]
        }
      ]
    },
    {
      "cell_type": "code",
      "source": [
        "def filter_classes(X, y, threshold=100):\n",
        "    # Count the occurrences of each class in y\n",
        "    class_counts = Counter(y)\n",
        "\n",
        "    # Print \"before\" state\n",
        "    print(\"Before filtering:\")\n",
        "    print(f\"X length: {len(X)}\")\n",
        "    print(f\"y length: {len(y)}\")\n",
        "    print(f\"Class counts: {class_counts}\")\n",
        "\n",
        "    # Find the classes that meet the threshold\n",
        "    valid_classes = {cls for cls, count in class_counts.items() if count >= threshold}\n",
        "\n",
        "    # Filter the instances of X and y based on the valid classes\n",
        "    X_filtered = [x for x, cls in zip(X, y) if cls in valid_classes]\n",
        "    y_filtered = [cls for cls in y if cls in valid_classes]\n",
        "\n",
        "    # Print \"after\" state\n",
        "    print(\"After filtering:\")\n",
        "    print(f\"X_filtered length: {len(X_filtered)}\")\n",
        "    print(f\"y_filtered length: {len(y_filtered)}\")\n",
        "    print(f\"Filtered class counts: {Counter(y_filtered)}\")\n",
        "\n",
        "    return np.array(X_filtered), np.array(y_filtered)\n",
        "\n",
        "# Filter classes with fewer than 100 instances\n",
        "X, y = filter_classes(X, y)"
      ],
      "metadata": {
        "id": "UP1zjOpuSY1D",
        "colab": {
          "base_uri": "https://localhost:8080/"
        },
        "outputId": "dbc7a0cf-eeb4-4d15-b51b-2f313941dcef"
      },
      "execution_count": null,
      "outputs": [
        {
          "output_type": "stream",
          "name": "stdout",
          "text": [
            "Before filtering:\n",
            "X length: 2830743\n",
            "y length: 2830743\n",
            "Class counts: Counter({0: 2273097, 4: 231073, 10: 158930, 2: 128027, 3: 10293, 7: 7938, 11: 5897, 6: 5796, 5: 5499, 1: 1966, 12: 1507, 14: 652, 9: 36, 13: 21, 8: 11})\n",
            "After filtering:\n",
            "X_filtered length: 2830675\n",
            "y_filtered length: 2830675\n",
            "Filtered class counts: Counter({0: 2273097, 4: 231073, 10: 158930, 2: 128027, 3: 10293, 7: 7938, 11: 5897, 6: 5796, 5: 5499, 1: 1966, 12: 1507, 14: 652})\n"
          ]
        }
      ]
    },
    {
      "cell_type": "code",
      "source": [
        "from imblearn.over_sampling import SMOTE\n",
        "from imblearn.under_sampling import RandomUnderSampler\n",
        "from imblearn.pipeline import Pipeline\n",
        "import numpy as np\n",
        "\n",
        "\n",
        "def balance_data(X, y, target_samples=25000, seed=42):\n",
        "    # First, apply under-sampling to reduce the majority class\n",
        "    under_sampler = RandomUnderSampler(sampling_strategy={0: target_samples}, random_state=seed)\n",
        "    X_under, y_under = under_sampler.fit_resample(X, y)\n",
        "\n",
        "    # Next, apply SMOTE to increase the minority classes\n",
        "    smote = SMOTE(random_state=seed)\n",
        "    new_X, new_y = smote.fit_resample(X_under, y_under)\n",
        "\n",
        "    return new_X, new_y"
      ],
      "metadata": {
        "id": "YPCm9gsEosp0"
      },
      "execution_count": null,
      "outputs": []
    },
    {
      "cell_type": "code",
      "source": [
        "# Splitting the Data\n",
        "X_temp, X_test, y_temp, y_test = train_test_split(X, y, test_size=0.15, random_state=42)\n",
        "X_train, X_val, y_train, y_val = train_test_split(X_temp, y_temp, test_size=0.176, random_state=42)\n",
        "\n",
        "# Print class distribution before balancing\n",
        "unique_before, counts_before = np.unique(y_train, return_counts=True)\n",
        "print(\"Class distribution before balancing:\", dict(zip(unique_before, counts_before)))\n",
        "\n",
        "# Balance the data\n",
        "X_train, y_train = balance_data(X_train, y_train, target_samples=25000, seed=42)\n",
        "\n",
        "# Print class distribution after balancing\n",
        "unique_after, counts_after = np.unique(y_train, return_counts=True)\n",
        "print(\"Class distribution after balancing:\", dict(zip(unique_after, counts_after)))\n",
        "\n",
        "\n",
        "# Convert data to PyTorch tensors\n",
        "X_train_tensor = torch.tensor(X_train, dtype=torch.float32)\n",
        "y_train_tensor = torch.tensor(y_train, dtype=torch.long)\n",
        "X_test_tensor = torch.tensor(X_test, dtype=torch.float32)\n",
        "y_test_tensor = torch.tensor(y_test, dtype=torch.long)"
      ],
      "metadata": {
        "id": "L06cV2D-a-Aw",
        "colab": {
          "base_uri": "https://localhost:8080/"
        },
        "outputId": "9bccb9a9-e4c8-4361-f9ca-28e75de90ba9"
      },
      "execution_count": null,
      "outputs": [
        {
          "output_type": "stream",
          "name": "stdout",
          "text": [
            "Class distribution before balancing: {0: 1591988, 1: 1394, 2: 89601, 3: 7131, 4: 161805, 5: 3830, 6: 4120, 7: 5585, 10: 111496, 11: 4110, 12: 1083, 14: 461}\n",
            "Class distribution after balancing: {0: 161805, 1: 161805, 2: 161805, 3: 161805, 4: 161805, 5: 161805, 6: 161805, 7: 161805, 10: 161805, 11: 161805, 12: 161805, 14: 161805}\n"
          ]
        }
      ]
    },
    {
      "cell_type": "code",
      "source": [
        "print(\"After balancing:\", Counter(y_test))"
      ],
      "metadata": {
        "colab": {
          "base_uri": "https://localhost:8080/"
        },
        "id": "cYD-sjA4tmbX",
        "outputId": "03d0f923-656c-45d5-82b7-f322bc86aeb0"
      },
      "execution_count": null,
      "outputs": [
        {
          "output_type": "stream",
          "name": "stdout",
          "text": [
            "After balancing: Counter({0: 340989, 4: 34678, 10: 23803, 2: 19254, 3: 1630, 7: 1140, 11: 880, 5: 853, 6: 784, 1: 300, 12: 198, 14: 93})\n"
          ]
        }
      ]
    },
    {
      "cell_type": "code",
      "source": [
        "from sklearn.preprocessing import LabelEncoder\n",
        "# Relabel the targets\n",
        "le = LabelEncoder()\n",
        "y_train_relabeled = le.fit_transform(y_train)\n",
        "y_test_relabeled = le.transform(y_test)\n",
        "\n",
        "# Create datasets and dataloaders\n",
        "train_dataset = TensorDataset(torch.tensor(X_train, dtype=torch.float32), torch.tensor(y_train_relabeled, dtype=torch.long))\n",
        "test_dataset = TensorDataset(torch.tensor(X_test, dtype=torch.float32), torch.tensor(y_test_relabeled, dtype=torch.long))"
      ],
      "metadata": {
        "id": "-KVaOkU5WSeG"
      },
      "execution_count": null,
      "outputs": []
    },
    {
      "cell_type": "code",
      "source": [
        "from sklearn.metrics import confusion_matrix\n",
        "\n",
        "class TransformerModel(nn.Module):\n",
        "    def __init__(self, input_dim, num_classes, d_model=18, nhead=4, num_layers=4, dim_feedforward=128, dropout=0.1):\n",
        "        super(TransformerModel, self).__init__()\n",
        "        self.embedding = nn.Linear(input_dim, d_model)\n",
        "        self.transformer = nn.Transformer(\n",
        "            d_model=d_model,\n",
        "            nhead=nhead,\n",
        "            num_encoder_layers=num_layers,\n",
        "            num_decoder_layers=num_layers,\n",
        "            dim_feedforward=dim_feedforward,\n",
        "            dropout=dropout\n",
        "        )\n",
        "        self.fc = nn.Linear(d_model, num_classes)\n",
        "\n",
        "    def forward(self, x):\n",
        "        x = self.embedding(x)\n",
        "        x = x.unsqueeze(1)  # Add a fake batch dimension for the transformer\n",
        "        x = self.transformer(x, x)  # Encoder-Decoder Self-Attention\n",
        "        x = x.squeeze(1)\n",
        "        x = self.fc(x)\n",
        "        return x\n"
      ],
      "metadata": {
        "id": "54lHQfJCWSkF"
      },
      "execution_count": null,
      "outputs": []
    },
    {
      "cell_type": "code",
      "source": [
        "from sklearn.metrics import balanced_accuracy_score, classification_report\n",
        "\n",
        "\n",
        "def evaluate_model(model, data_loader):\n",
        "    model.eval()\n",
        "    true_labels = []\n",
        "    predicted_labels = []\n",
        "\n",
        "    with torch.no_grad():\n",
        "        for data, labels in data_loader:\n",
        "            data = data.cuda()\n",
        "            labels = labels.cuda()\n",
        "\n",
        "            outputs = model(data)\n",
        "            _, predicted = torch.max(outputs.data, 1)\n",
        "            true_labels.extend(labels.cpu().numpy())\n",
        "            predicted_labels.extend(predicted.cpu().numpy())\n",
        "\n",
        "    accuracy = accuracy_score(true_labels, predicted_labels)\n",
        "    balanced_accuracy = balanced_accuracy_score(true_labels, predicted_labels)\n",
        "    f1 = f1_score(true_labels, predicted_labels, average='weighted')\n",
        "    precision = precision_score(true_labels, predicted_labels, average='weighted')\n",
        "    recall = recall_score(true_labels, predicted_labels, average='weighted')\n",
        "\n",
        "    macro_f1 = f1_score(true_labels, predicted_labels, average='macro')\n",
        "    macro_precision = precision_score(true_labels, predicted_labels, average='macro')\n",
        "    macro_recall = recall_score(true_labels, predicted_labels, average='macro')\n",
        "\n",
        "    print(\"Classification Report : \\n\", classification_report(true_labels, predicted_labels))\n",
        "\n",
        "    return accuracy, balanced_accuracy, f1, precision, recall, macro_f1, macro_precision, macro_recall, true_labels, predicted_labels\n"
      ],
      "metadata": {
        "id": "UpuQ2T_SR7VB"
      },
      "execution_count": null,
      "outputs": []
    },
    {
      "cell_type": "code",
      "source": [
        "batch_size = 1024\n",
        "train_loader = DataLoader(train_dataset, batch_size=batch_size, shuffle=True)\n",
        "test_loader = DataLoader(test_dataset, batch_size=batch_size)\n"
      ],
      "metadata": {
        "id": "HMFI1SEpWSmp"
      },
      "execution_count": null,
      "outputs": []
    },
    {
      "cell_type": "code",
      "source": [
        "# Model Configuration\n",
        "input_dim = X_train.shape[1]\n",
        "num_classes = len(le.classes_)\n",
        "model = TransformerModel(input_dim, num_classes, nhead=10, d_model=180, num_layers=4)\n",
        "model = model.cuda()\n",
        "\n",
        "# Loss and Optimizer\n",
        "criterion = nn.CrossEntropyLoss()\n",
        "optimizer = optim.Adam(model.parameters(), lr=0.001)\n"
      ],
      "metadata": {
        "id": "DLyVzHRPWTAC"
      },
      "execution_count": null,
      "outputs": []
    },
    {
      "cell_type": "code",
      "source": [
        "# Training loop\n",
        "for epoch in range(5):\n",
        "    model.train()\n",
        "    running_loss = 0.0\n",
        "    for i, (data, labels) in enumerate(train_loader):\n",
        "        data = data.cuda()\n",
        "        labels = labels.cuda()\n",
        "\n",
        "        # Forward pass\n",
        "        outputs = model(data)\n",
        "        loss = criterion(outputs, labels)\n",
        "\n",
        "        # Backward and optimize\n",
        "        optimizer.zero_grad()\n",
        "        loss.backward()\n",
        "        optimizer.step()\n",
        "\n",
        "        running_loss += loss.item()\n",
        "\n",
        "    print('Epoch [{}/5], Loss: {:.4f}'.format(epoch + 1, running_loss / len(train_loader)))\n",
        "\n",
        "# Evaluation (replace with your evaluation function)\n",
        "accuracy, balanced_accuracy, f1, precision, recall, macro_f1, macro_precision, macro_recall = evaluate_model(model, test_loader)\n",
        "print('Macro F1 Score: {:.4f}'.format(macro_f1))\n",
        "print('Macro Precision: {:.4f}'.format(macro_precision))\n",
        "print('Macro Recall: {:.4f}'.format(macro_recall))\n",
        "print('Balanced Accuracy: {:.4f}'.format(balanced_accuracy))"
      ],
      "metadata": {
        "colab": {
          "base_uri": "https://localhost:8080/"
        },
        "id": "pWmGQqbfWxE4",
        "outputId": "6ace6b7f-a2cf-401a-9824-7466ce0bfc68"
      },
      "execution_count": null,
      "outputs": [
        {
          "output_type": "stream",
          "name": "stdout",
          "text": [
            "Epoch [1/5], Loss: 0.2697\n",
            "Epoch [2/5], Loss: 0.1718\n",
            "Epoch [3/5], Loss: 0.1668\n",
            "Epoch [4/5], Loss: 0.1771\n",
            "Epoch [5/5], Loss: 0.1556\n",
            "Classification Report : \n",
            "               precision    recall  f1-score   support\n",
            "\n",
            "           0       1.00      0.80      0.89    340989\n",
            "           1       0.02      0.99      0.03       300\n",
            "           2       0.86      1.00      0.92     19254\n",
            "           3       0.51      0.99      0.67      1630\n",
            "           4       0.82      1.00      0.90     34678\n",
            "           5       0.40      0.95      0.56       853\n",
            "           6       0.16      0.98      0.27       784\n",
            "           7       0.09      0.98      0.17      1140\n",
            "           8       0.80      1.00      0.89     23803\n",
            "           9       0.13      0.98      0.23       880\n",
            "          10       0.01      0.22      0.03       198\n",
            "          11       0.02      0.92      0.03        93\n",
            "\n",
            "    accuracy                           0.84    424602\n",
            "   macro avg       0.40      0.90      0.47    424602\n",
            "weighted avg       0.96      0.84      0.88    424602\n",
            "\n",
            "Macro F1 Score: 0.4656\n",
            "Macro Precision: 0.4007\n",
            "Macro Recall: 0.8999\n",
            "Balanced Accuracy: 0.8999\n"
          ]
        }
      ]
    },
    {
      "cell_type": "code",
      "source": [
        "import matplotlib.pyplot as plt\n",
        "import seaborn as sns\n",
        "from sklearn.metrics import confusion_matrix\n",
        "\n",
        "def print_confusion_matrix(true_labels, predicted_labels):\n",
        "    # Generate the confusion matrix\n",
        "    cm = confusion_matrix(true_labels, predicted_labels)\n",
        "\n",
        "    # Print the confusion matrix\n",
        "    print(\"Confusion Matrix:\")\n",
        "    print(cm)\n",
        "\n",
        "    # Visualize the confusion matrix\n",
        "    sns.heatmap(cm, annot=True, fmt='g')\n",
        "    plt.xlabel('Predicted')\n",
        "    plt.ylabel('True')\n",
        "    plt.show()\n",
        "\n",
        "# After your evaluate_model function\n",
        "accuracy, balanced_accuracy, f1, precision, recall, macro_f1, macro_precision, macro_recall,true_labels, predicted_labels = evaluate_model(model, test_loader)\n",
        "\n",
        "# Print confusion matrix\n",
        "print_confusion_matrix(true_labels, predicted_labels)"
      ],
      "metadata": {
        "colab": {
          "base_uri": "https://localhost:8080/",
          "height": 1000
        },
        "id": "MEHEbRge2a5h",
        "outputId": "e080ee7c-ce06-4989-d884-2e58635a19c1"
      },
      "execution_count": null,
      "outputs": [
        {
          "output_type": "stream",
          "name": "stdout",
          "text": [
            "Classification Report : \n",
            "               precision    recall  f1-score   support\n",
            "\n",
            "           0       1.00      0.80      0.89    340989\n",
            "           1       0.02      0.99      0.03       300\n",
            "           2       0.86      1.00      0.92     19254\n",
            "           3       0.51      0.99      0.67      1630\n",
            "           4       0.82      1.00      0.90     34678\n",
            "           5       0.40      0.95      0.56       853\n",
            "           6       0.16      0.98      0.27       784\n",
            "           7       0.09      0.98      0.17      1140\n",
            "           8       0.80      1.00      0.89     23803\n",
            "           9       0.13      0.98      0.23       880\n",
            "          10       0.01      0.22      0.03       198\n",
            "          11       0.02      0.92      0.03        93\n",
            "\n",
            "    accuracy                           0.84    424602\n",
            "   macro avg       0.40      0.90      0.47    424602\n",
            "weighted avg       0.96      0.84      0.88    424602\n",
            "\n",
            "Confusion Matrix:\n",
            "[[273155  19195   3227   1531   7703   1214   4072  10956   5792   5694\n",
            "    3048   5402]\n",
            " [     1    298      0      0      0      0      1      0      0      0\n",
            "       0      0]\n",
            " [    12      9  19205     20      4      0      3      0      0      1\n",
            "       0      0]\n",
            " [     0      0      0   1609      1      0      0      0      0      5\n",
            "      15      0]\n",
            " [     7     20      6      1  34613      0      0      0      0      4\n",
            "      14     13]\n",
            " [     0      0      1      1      0    809     40      0      0      1\n",
            "       0      1]\n",
            " [     0      0      0      0      0      6    765      2      0      0\n",
            "       1     10]\n",
            " [     0      0      0      0      5      0      4   1121      0      2\n",
            "       0      8]\n",
            " [    17      7      6      0      8      0      6      4  23713      1\n",
            "       7     34]\n",
            " [     3      0      0      0      1      0      0      3      3    859\n",
            "       4      7]\n",
            " [     0      0      0      0      0      0      0      0      0      9\n",
            "      43    146]\n",
            " [     0      0      0      1      0      0      0      0      0      0\n",
            "       6     86]]\n"
          ]
        },
        {
          "output_type": "display_data",
          "data": {
            "text/plain": [
              "<Figure size 640x480 with 2 Axes>"
            ],
            "image/png": "[encoded data removed]"
          },
          "metadata": {}
        }
      ]
    },
    {
      "cell_type": "code",
      "source": [
        "import matplotlib.pyplot as plt\n",
        "import numpy as np\n",
        "\n",
        "# Assuming you already have your classification report in a dictionary\n",
        "report = classification_report(true_labels, predicted_labels, output_dict=True)\n",
        "\n",
        "# Collecting class labels, precision, recall, and f1-score\n",
        "labels = []\n",
        "precision = []\n",
        "recall = []\n",
        "f1_score = []\n",
        "\n",
        "for label, metrics in report.items():\n",
        "    if label.isdigit():\n",
        "        labels.append(label)\n",
        "        precision.append(metrics['precision'])\n",
        "        recall.append(metrics['recall'])\n",
        "        f1_score.append(metrics['f1-score'])\n",
        "\n",
        "# Setting bar width and index for the X-axis\n",
        "barWidth = 0.25\n",
        "r1 = np.arange(len(labels))\n",
        "r2 = [x + barWidth for x in r1]\n",
        "r3 = [x + barWidth for x in r2]\n",
        "\n",
        "# Plotting the bar chart\n",
        "plt.bar(r1, precision, color='b', width=barWidth, edgecolor='grey', label='Precision')\n",
        "plt.bar(r2, recall, color='c', width=barWidth, edgecolor='grey', label='Recall')\n",
        "plt.bar(r3, f1_score, color='m', width=barWidth, edgecolor='grey', label='F1-Score')\n",
        "\n",
        "# Adding labels and title\n",
        "plt.xlabel('Classes', fontweight='bold')\n",
        "plt.ylabel('Scores')\n",
        "plt.title('Class-wise Metrics')\n",
        "plt.xticks([r + barWidth for r in range(len(labels))], labels)\n",
        "\n",
        "# Adding legend\n",
        "plt.legend()\n",
        "\n",
        "# Show the plot\n",
        "plt.show()\n"
      ],
      "metadata": {
        "colab": {
          "base_uri": "https://localhost:8080/",
          "height": 472
        },
        "id": "Ow1u-gr42cvK",
        "outputId": "95796123-20e9-41ac-d372-edf24d3fe3b1"
      },
      "execution_count": null,
      "outputs": [
        {
          "output_type": "display_data",
          "data": {
            "text/plain": [
              "<Figure size 640x480 with 1 Axes>"
            ],
            "image/png": "[encoded data removed]"
          },
          "metadata": {}
        }
      ]
    },
    {
      "cell_type": "code",
      "source": [
        "# Print class distribution before balancing\n",
        "unique_before, counts_before = np.unique(y, return_counts=True)\n",
        "print(\"Class distribution before balancing:\", dict(zip(unique_before, counts_before)))"
      ],
      "metadata": {
        "id": "3tdqeobo5Cf4",
        "outputId": "52490dac-d0fd-4c70-f523-8ab3089a83dc",
        "colab": {
          "base_uri": "https://localhost:8080/"
        }
      },
      "execution_count": null,
      "outputs": [
        {
          "output_type": "stream",
          "name": "stdout",
          "text": [
            "Class distribution before balancing: {0: 2273097, 1: 1966, 2: 128027, 3: 10293, 4: 231073, 5: 5499, 6: 5796, 7: 7938, 10: 158930, 11: 5897, 12: 1507, 14: 652}\n"
          ]
        }
      ]
    },
    {
      "cell_type": "code",
      "source": [
        "from sklearn.metrics import classification_report\n",
        "\n",
        "# Assuming you have 'true_labels' and 'predicted_labels'\n",
        "report = classification_report(true_labels, predicted_labels, output_dict=True)\n",
        "\n",
        "# Now 'report' is a dictionary containing all the metrics\n",
        "for label, metrics in report.items():\n",
        "    if label.isdigit():  # Check if the key is a class label\n",
        "        print(f\"Class {label}:\")\n",
        "        print(f\"  Precision: {metrics['precision']}\")\n",
        "        print(f\"  Recall: {metrics['recall']}\")\n",
        "        print(f\"  F1 Score: {metrics['f1-score']}\")\n",
        "        print(f\"  Support: {metrics['support']}\")\n"
      ],
      "metadata": {
        "colab": {
          "base_uri": "https://localhost:8080/"
        },
        "id": "w7d7HkFW4GFk",
        "outputId": "8bbe6d88-2263-4e4a-8790-3f25ccf7920f"
      },
      "execution_count": null,
      "outputs": [
        {
          "output_type": "stream",
          "name": "stdout",
          "text": [
            "Class 0:\n",
            "  Precision: 0.9998535844360256\n",
            "  Recall: 0.8010668965861069\n",
            "  F1 Score: 0.8894891433186146\n",
            "  Support: 340989\n",
            "Class 1:\n",
            "  Precision: 0.01525935787802755\n",
            "  Recall: 0.9933333333333333\n",
            "  F1 Score: 0.030056987240909782\n",
            "  Support: 300\n",
            "Class 2:\n",
            "  Precision: 0.8556471374470929\n",
            "  Recall: 0.9974550742702815\n",
            "  F1 Score: 0.9211252068394925\n",
            "  Support: 19254\n",
            "Class 3:\n",
            "  Precision: 0.5086942775845716\n",
            "  Recall: 0.9871165644171779\n",
            "  F1 Score: 0.6713957855205508\n",
            "  Support: 1630\n",
            "Class 4:\n",
            "  Precision: 0.8175977323727412\n",
            "  Recall: 0.9981256127804372\n",
            "  F1 Score: 0.8988872008621921\n",
            "  Support: 34678\n",
            "Class 5:\n",
            "  Precision: 0.3987185805815673\n",
            "  Recall: 0.9484173505275498\n",
            "  F1 Score: 0.5614156835530881\n",
            "  Support: 853\n",
            "Class 6:\n",
            "  Precision: 0.15640973216111226\n",
            "  Recall: 0.9757653061224489\n",
            "  F1 Score: 0.2696035242290749\n",
            "  Support: 784\n",
            "Class 7:\n",
            "  Precision: 0.09275194439847757\n",
            "  Recall: 0.9833333333333333\n",
            "  F1 Score: 0.1695145924693785\n",
            "  Support: 1140\n",
            "Class 8:\n",
            "  Precision: 0.8036125796394198\n",
            "  Recall: 0.996218963996135\n",
            "  F1 Score: 0.8896100241976327\n",
            "  Support: 23803\n",
            "Class 9:\n",
            "  Precision: 0.1306265206812652\n",
            "  Recall: 0.9761363636363637\n",
            "  F1 Score: 0.2304184549356223\n",
            "  Support: 880\n",
            "Class 10:\n",
            "  Precision: 0.013702995538559592\n",
            "  Recall: 0.21717171717171718\n",
            "  F1 Score: 0.025779376498800962\n",
            "  Support: 198\n",
            "Class 11:\n",
            "  Precision: 0.015069213246889784\n",
            "  Recall: 0.9247311827956989\n",
            "  F1 Score: 0.029655172413793104\n",
            "  Support: 93\n"
          ]
        }
      ]
    },
    {
      "cell_type": "code",
      "source": [],
      "metadata": {
        "id": "zyPHbt7n4eLF"
      },
      "execution_count": null,
      "outputs": []
    }
  ]
}